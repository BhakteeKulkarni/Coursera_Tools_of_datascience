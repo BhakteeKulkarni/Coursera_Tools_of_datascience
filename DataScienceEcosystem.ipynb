{
 "cells": [
  {
   "cell_type": "markdown",
   "id": "39a1e285-326e-4e33-9e80-9a967ee70309",
   "metadata": {
    "tags": []
   },
   "source": [
    "# Data Science Tools and Ecosystem"
   ]
  },
  {
   "cell_type": "markdown",
   "id": "68823cc2-846b-4b22-ba6d-5d3b8d8ed0bc",
   "metadata": {},
   "source": [
    "In this notebook, Data Science Tools and Ecosystem are summarized."
   ]
  },
  {
   "cell_type": "markdown",
   "id": "3de29590-9970-4fb5-9240-2205ec817428",
   "metadata": {},
   "source": [
    "Some of the popular languages that Data Scientists use are:\n",
    "\n",
    "1. Python\n",
    "2. R\n",
    "3. Julia"
   ]
  },
  {
   "cell_type": "markdown",
   "id": "0995cfe7-bfa2-4b07-8cad-1808021c712c",
   "metadata": {
    "tags": []
   },
   "source": [
    "Some of the commonly used libraries used by Data Scientists include:\n",
    "\n",
    "1. NumPy\n",
    "2. Pandas\n",
    "3. Matplotlib\n",
    "4. Seanorn"
   ]
  },
  {
   "cell_type": "markdown",
   "id": "6bff30d6-ba49-4acf-b9b7-25d031724931",
   "metadata": {},
   "source": [
    "| Data Science Tools |\n",
    "|---|\n",
    "| Jupyter Notebook | Open-source interactive environment for data exploration and analysis. |\n",
    "| RStudio | Integrated Development Environment (IDE) for R programming with advanced features for data science. |\n",
    "| Spyder | Open-source scientific Python development environment with focus on data science. |\n",
    "|"
   ]
  },
  {
   "cell_type": "markdown",
   "id": "17176dcc-b6b7-40cf-95a8-e7e64cc526cc",
   "metadata": {},
   "source": [
    "### Below are a few examples of evaluating arithmetic expressions in Python\n"
   ]
  },
  {
   "cell_type": "code",
   "execution_count": 2,
   "id": "093351ca-628b-481f-95ee-75597fde31e2",
   "metadata": {
    "tags": []
   },
   "outputs": [
    {
     "data": {
      "text/plain": [
       "17"
      ]
     },
     "execution_count": 2,
     "metadata": {},
     "output_type": "execute_result"
    }
   ],
   "source": [
    "# This a simple arithmetic expression to mutiply then add integers\n",
    "(3*4)+5"
   ]
  },
  {
   "cell_type": "code",
   "execution_count": 3,
   "id": "31d6fae6-8dcc-47a6-86e9-7789c84c43a8",
   "metadata": {
    "tags": []
   },
   "outputs": [
    {
     "name": "stdout",
     "output_type": "stream",
     "text": [
      "200 minutes is equal to 3.33 hours.\n"
     ]
    }
   ],
   "source": [
    "# This will convert 200 minutes to hours by dividing by 60.\n",
    "minutes = 200\n",
    "hours = minutes / 60\n",
    "print(f\"{minutes} minutes is equal to {hours:.2f} hours.\")"
   ]
  },
  {
   "cell_type": "markdown",
   "id": "f2c08970-a5ca-4677-9f41-e88123b85286",
   "metadata": {},
   "source": [
    "**Objectives:**\n",
    "\n",
    "* List popular languages used in Data Science.\n",
    "* Explore commonly used libraries for data analysis.\n",
    "* Understand basic arithmetic operations in Python.\n",
    "* Demonstrate data conversion in Python."
   ]
  },
  {
   "cell_type": "markdown",
   "id": "b0f1c464-7673-4735-ba32-1e1c7529b212",
   "metadata": {
    "tags": []
   },
   "source": [
    "## Author\n",
    "\n",
    "Bhakti Balavant Kulkarni"
   ]
  }
 ],
 "metadata": {
  "kernelspec": {
   "display_name": "Python",
   "language": "python",
   "name": "conda-env-python-py"
  },
  "language_info": {
   "codemirror_mode": {
    "name": "ipython",
    "version": 3
   },
   "file_extension": ".py",
   "mimetype": "text/x-python",
   "name": "python",
   "nbconvert_exporter": "python",
   "pygments_lexer": "ipython3",
   "version": "3.7.12"
  }
 },
 "nbformat": 4,
 "nbformat_minor": 5
}
